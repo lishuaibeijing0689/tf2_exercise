{
 "cells": [
  {
   "cell_type": "code",
   "execution_count": null,
   "metadata": {},
   "outputs": [],
   "source": [
    "\"\"\"\n",
    "LeNet、AlexNet和VGG在设计上的共同之处是：先以由卷积层构成的模块充分抽取空间特征，再以由全连接层构成的模块来输出分类结果。\n",
    "NiN的思路是 串联多个由卷积层和“全连接”层构成的小网络来构建一个深层网络。\n",
    "\n",
    "还是老问题：这样的设计有什么理由还是只是经验？\n",
    "\n",
    "\"\"\""
   ]
  },
  {
   "cell_type": "markdown",
   "metadata": {},
   "source": [
    "### 维度不匹配的问题\n",
    "卷积层的输入和输出通常是四维数组（样本，通道，高，宽），而全连接层的输入和输出则通常是二维数组（样本，特征）。如果想在全连接层后再接上卷积层，则需要将全连接层的输出变换为四维，这可以借助$1\\times 1$卷积来实现。"
   ]
  },
  {
   "cell_type": "markdown",
   "metadata": {},
   "source": [
    "NiN还有一个设计与AlexNet显著不同：NiN去掉了AlexNet最后的3个全连接层，取而代之地，NiN使用了输出通道数等于标签类别数的NiN块，然后使用全局平均池化层对每个通道中所有元素求平均并直接用于分类。这里的全局平均池化层即窗口形状等于输入空间维形状的平均池化层。NiN的这个设计的好处是可以显著减小模型参数尺寸，从而缓解过拟合。然而，该设计有时会造成获得有效模型的训练时间的增加。"
   ]
  },
  {
   "cell_type": "code",
   "execution_count": null,
   "metadata": {},
   "outputs": [],
   "source": [
    "# 示例代码\n",
    "def nin_block(num_channels, kernel_size, strides, padding):\n",
    "    blk = tf.keras.models.Sequential()\n",
    "    blk.add(tf.keras.layers.Conv2D(num_channels, kernel_size,\n",
    "                                   strides=strides, padding=padding, activation='relu')) \n",
    "    blk.add(tf.keras.layers.Conv2D(num_channels, kernel_size=1,activation='relu')) \n",
    "    blk.add(tf.keras.layers.Conv2D(num_channels, kernel_size=1,activation='relu'))    \n",
    "    return blk\n",
    "\n",
    "net = tf.keras.models.Sequential()\n",
    "net.add(nin_block(96, kernel_size=11, strides=4, padding='valid'))\n",
    "net.add(tf.keras.layers.MaxPool2D(pool_size=3, strides=2))\n",
    "net.add(nin_block(256, kernel_size=5, strides=1, padding='same'))\n",
    "net.add(tf.keras.layers.MaxPool2D(pool_size=3, strides=2))\n",
    "net.add(nin_block(384, kernel_size=3, strides=1, padding='same'))\n",
    "net.add(tf.keras.layers.MaxPool2D(pool_size=3, strides=2))\n",
    "net.add(tf.keras.layers.Dropout(0.5))\n",
    "net.add(nin_block(10, kernel_size=3, strides=1, padding='same'))\n",
    "net.add(tf.keras.layers.GlobalAveragePooling2D()) # 全局平均池化层\n",
    "net.add(tf.keras.layers.Flatten())"
   ]
  }
 ],
 "metadata": {
  "kernelspec": {
   "display_name": "Python 3",
   "language": "python",
   "name": "python3"
  },
  "language_info": {
   "codemirror_mode": {
    "name": "ipython",
    "version": 3
   },
   "file_extension": ".py",
   "mimetype": "text/x-python",
   "name": "python",
   "nbconvert_exporter": "python",
   "pygments_lexer": "ipython3",
   "version": "3.6.5"
  }
 },
 "nbformat": 4,
 "nbformat_minor": 2
}
