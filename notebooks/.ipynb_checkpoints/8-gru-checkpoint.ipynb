{
 "cells": [
  {
   "cell_type": "code",
   "execution_count": 1,
   "metadata": {},
   "outputs": [
    {
     "data": {
      "text/plain": [
       "'\\n当时间步数较大或者时间步较小时，循环神经网络的梯度较容易出现衰减或爆炸。\\n门控循环神经网络（gated recurrent neural network）的提出，正是为了更好地捕捉时间序列中时间步距离较大的依赖关系。\\n它通过可以学习的门来控制信息的流动。\\n它引入了重置门（reset gate）和更新门（update gate）的概念,他们的激活函数都是sigmoid\\n重置门Rt和更新门Zt中每个元素的值域都是[0,1]\\n'"
      ]
     },
     "execution_count": 1,
     "metadata": {},
     "output_type": "execute_result"
    }
   ],
   "source": [
    "\"\"\"\n",
    "当时间步数较大或者时间步较小时，循环神经网络的梯度较容易出现衰减或爆炸。\n",
    "门控循环神经网络（gated recurrent neural network）的提出，正是为了更好地捕捉时间序列中时间步距离较大的依赖关系。\n",
    "它通过可以学习的门来控制信息的流动。\n",
    "它引入了重置门（reset gate）和更新门（update gate）的概念,他们的激活函数都是sigmoid\n",
    "重置门Rt和更新门Zt中每个元素的值域都是[0,1]\n",
    "\"\"\""
   ]
  },
  {
   "cell_type": "code",
   "execution_count": 1,
   "metadata": {},
   "outputs": [],
   "source": [
    "import tensorflow as tf\n",
    "from tensorflow import keras\n",
    "from tensorflow.keras import backend as f\n",
    "import numpy as np\n",
    "import math\n",
    "import sys\n",
    "import time\n",
    "sys.path.append(\"..\") \n",
    "import d2lzh_tensorflow2 as d2l"
   ]
  },
  {
   "cell_type": "code",
   "execution_count": 2,
   "metadata": {},
   "outputs": [],
   "source": [
    "(corpus_indices, char_to_idx, idx_to_char, vocab_size) = d2l.load_data_jay_lyrics(\n",
    "    \"../data/jaychou_lyrics.txt.zip\")"
   ]
  },
  {
   "cell_type": "code",
   "execution_count": 3,
   "metadata": {},
   "outputs": [],
   "source": [
    "num_hiddens = 256\n",
    "rnn_layer = keras.layers.GRU(num_hiddens,\n",
    "                             time_major=True, # 含义在doc中没找到,其含义可能是\n",
    "                             return_sequences=True,\n",
    "                             return_state=True # state是每个rnn单元输出的隐藏层状态，用于下一个单元的输入\n",
    "                            )"
   ]
  },
  {
   "cell_type": "code",
   "execution_count": 4,
   "metadata": {},
   "outputs": [
    {
     "data": {
      "text/plain": [
       "TensorShape([2, 256])"
      ]
     },
     "execution_count": 4,
     "metadata": {},
     "output_type": "execute_result"
    }
   ],
   "source": [
    "cell=keras.layers.GRUCell(num_hiddens,kernel_initializer='glorot_uniform')\n",
    "batch_size = 2\n",
    "state = cell.get_initial_state(batch_size=batch_size,dtype=tf.float32) # 初始化的隐藏状态列表\n",
    "state.shape"
   ]
  },
  {
   "cell_type": "code",
   "execution_count": 5,
   "metadata": {},
   "outputs": [
    {
     "data": {
      "text/plain": [
       "(TensorShape([23, 2, 256]), 2, TensorShape([256]), TensorShape([256]))"
      ]
     },
     "execution_count": 5,
     "metadata": {},
     "output_type": "execute_result"
    }
   ],
   "source": [
    "num_steps = 23\n",
    "X = tf.random.uniform(shape=(num_steps, batch_size, vocab_size)) # num_steps是使用多少个RNNcell来构造模型\n",
    "Y, state_new = rnn_layer(X, state)  # 因为batch_size是2，所以state_new长度是2\n",
    "Y.shape, len(state_new), state_new[0].shape, state_new[1].shape\n",
    "# 注意 Y的维度是(num_steps, batch_size, num_hidden) state_new的维度是 (batch_size, num_hidden)"
   ]
  },
  {
   "cell_type": "code",
   "execution_count": 6,
   "metadata": {},
   "outputs": [
    {
     "data": {
      "text/plain": [
       "'分开谢绕枪怪剧瘦幽迎悲檐'"
      ]
     },
     "execution_count": 6,
     "metadata": {},
     "output_type": "execute_result"
    }
   ],
   "source": [
    "# 没训练之前，输出预测歌词的结果\n",
    "model = d2l.RNNModel(rnn_layer, vocab_size)\n",
    "d2l.predict_rnn_keras('分开', 10, model, vocab_size,  idx_to_char, char_to_idx)"
   ]
  },
  {
   "cell_type": "code",
   "execution_count": 14,
   "metadata": {},
   "outputs": [
    {
     "name": "stdout",
     "output_type": "stream",
     "text": [
      "epoch 50, perplexity 35.388141, time 2.92 sec\n",
      " - 分开                                                  \n",
      " - 不分开                                                  \n",
      "epoch 100, perplexity 121.625929, time 2.86 sec\n",
      " - 分开透透透透透透透透透透透透透透透透透透透透透透透透透透透透透透透透透透透透透透透透透透透透透透透透透透\n",
      " - 不分开透透透透透透透透透透透透透透透透透透透透透透透透透透透透透透透透透透透透透透透透透透透透透透透透透透\n",
      "epoch 150, perplexity 16927.761040, time 2.83 sec\n",
      " - 分开腮oo理葛广葛彩葛葛田仔仔红夜仔仔仔红夜理裂缝缝器理葛仔藤仔仔红夜理葛仔理葛葛广葛仔仔凉藤理葛仔藤仔\n",
      " - 不分开镇蜘仔仔红夜理葛御理葛仔藤仔理葛葛广葛仔仔红夜理裂缝缝器理葛彩葛葛广葛仔仔红夜理裂缝缝器理葛彩葛葛广\n",
      "epoch 200, perplexity 1892.750020, time 2.85 sec\n",
      " - 分开悉楷楷仔悉括楷楷楷仔悉楷括楷悉楷仔括楷楷把悉楷悉楷仔括楷楷悉楷悉楷仔括括楷悉楷悉楷楷仔括括楷悉楷悉楷\n",
      " - 不分开括楷楷悉悉楷楷楷仔悉括楷悉楷仔括楷楷把悉楷悉楷仔括楷楷悉楷悉楷仔括括楷悉楷悉楷楷仔括括楷悉楷悉楷楷仔\n",
      "epoch 250, perplexity 720.831429, time 2.83 sec\n",
      " - 分开藤把把把悉悉悉楷藤藤藤藤藤藤藤藤藤藤藤藤藤藤藤藤藤藤藤藤藤藤藤藤藤藤藤藤藤藤藤藤藤藤藤藤藤藤藤藤藤藤\n",
      " - 不分开镇把把藤悉悉藤藤藤藤藤藤藤藤藤藤藤藤藤藤藤藤藤藤藤藤藤藤藤藤藤藤藤藤藤藤藤藤藤藤藤藤藤藤藤藤藤藤藤藤\n"
     ]
    }
   ],
   "source": [
    "# 训练多轮，每隔N轮输出预测结果\n",
    "num_epochs, batch_size, lr, clipping_theta = 250, 32, 1e2, 1e-2\n",
    "pred_period, pred_len, prefixes = 50, 50, ['分开', '不分开']\n",
    "d2l.train_and_predict_rnn_keras(model, num_hiddens, vocab_size, \n",
    "                            corpus_indices, idx_to_char, char_to_idx,\n",
    "                            num_epochs, num_steps, lr, clipping_theta,\n",
    "                            batch_size, pred_period, pred_len, prefixes)"
   ]
  },
  {
   "cell_type": "code",
   "execution_count": null,
   "metadata": {},
   "outputs": [],
   "source": [
    "\"\"\"\n",
    "训练效果略有改善，但还是不够好\n",
    "\"\"\""
   ]
  }
 ],
 "metadata": {
  "kernelspec": {
   "display_name": "Python 3",
   "language": "python",
   "name": "python3"
  },
  "language_info": {
   "codemirror_mode": {
    "name": "ipython",
    "version": 3
   },
   "file_extension": ".py",
   "mimetype": "text/x-python",
   "name": "python",
   "nbconvert_exporter": "python",
   "pygments_lexer": "ipython3",
   "version": "3.6.5"
  }
 },
 "nbformat": 4,
 "nbformat_minor": 2
}
