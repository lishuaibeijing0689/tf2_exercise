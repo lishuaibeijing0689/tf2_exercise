{
 "cells": [
  {
   "cell_type": "code",
   "execution_count": null,
   "metadata": {},
   "outputs": [],
   "source": [
    "\"\"\"\n",
    "批量归一化 和 残差网络 为训练和设计深度模型提供了两类重要思路。\n",
    "\"\"\""
   ]
  },
  {
   "cell_type": "markdown",
   "metadata": {},
   "source": [
    "### batch normalization\n",
    "\n",
    "训练浅层神经网络时，对输入数据做标准化处理（均值为0、标准差为1）就足够。\n",
    "\n",
    "但是深层神经网络则不然，因为输出举例输入太远，其数值的大小很难控制，数值的不稳定性令我们难以训练出有效的深度模型。\n",
    "\n",
    "批量归一化利用小批量上的均值和标准差，不断调整神经网络中间输出，从而使整个神经网络在各层的中间输出的数值更稳定。\n",
    "\n",
    "对全连接层和卷积层做批量归一化的方法稍有不同。\n",
    "\n",
    "#### 全连接层\n",
    "小批量样本有m个，batch norm加在仿射函数和激活函数之间，对m个样本的仿射函数的输出做标准化处理（均值为0、标准差为1），再输入到激活函数里。\n",
    "\n",
    "#### 卷积层\n",
    "批量归一化发生在卷积计算之后、应用激活函数之前。如果卷积计算输出多个通道，我们需要对这些通道的输出分别做批量归一化。\n",
    "\n",
    "#### 预测\n",
    "预测时无法取到batch norm，一种常用的方法是通过移动平均估算整个训练数据集的样本均值和方差，并在预测时使用它们得到确定的输出。\n",
    "可见，和dropout一样，batch norm在训练模式和预测模式下的计算结果也是不一样的。"
   ]
  },
  {
   "cell_type": "code",
   "execution_count": null,
   "metadata": {},
   "outputs": [],
   "source": [
    "# 示例代码：带 batch norm层的lenet\n",
    "net = tf.keras.models.Sequential()\n",
    "net.add(tf.keras.layers.Conv2D(filters=6,kernel_size=5))\n",
    "net.add(tf.keras.layers.BatchNormalization()) # batch norm层\n",
    "net.add(tf.keras.layers.Activation('sigmoid'))\n",
    "net.add(tf.keras.layers.MaxPool2D(pool_size=2, strides=2))\n",
    "net.add(tf.keras.layers.Conv2D(filters=16,kernel_size=5))\n",
    "net.add(tf.keras.layers.BatchNormalization())\n",
    "net.add(tf.keras.layers.Activation('sigmoid'))\n",
    "net.add(tf.keras.layers.MaxPool2D(pool_size=2, strides=2))\n",
    "net.add(tf.keras.layers.Flatten())\n",
    "net.add(tf.keras.layers.Dense(120))\n",
    "net.add(tf.keras.layers.BatchNormalization())\n",
    "net.add(tf.keras.layers.Activation('sigmoid'))\n",
    "net.add(tf.keras.layers.Dense(84))\n",
    "net.add(tf.keras.layers.BatchNormalization())\n",
    "net.add(tf.keras.layers.Activation('sigmoid'))\n",
    "net.add(tf.keras.layers.Dense(10,activation='sigmoid'))"
   ]
  }
 ],
 "metadata": {
  "kernelspec": {
   "display_name": "Python 3",
   "language": "python",
   "name": "python3"
  },
  "language_info": {
   "codemirror_mode": {
    "name": "ipython",
    "version": 3
   },
   "file_extension": ".py",
   "mimetype": "text/x-python",
   "name": "python",
   "nbconvert_exporter": "python",
   "pygments_lexer": "ipython3",
   "version": "3.6.5"
  }
 },
 "nbformat": 4,
 "nbformat_minor": 2
}
