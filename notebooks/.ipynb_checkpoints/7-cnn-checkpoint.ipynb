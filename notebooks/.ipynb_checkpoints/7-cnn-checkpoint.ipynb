{
 "cells": [
  {
   "cell_type": "code",
   "execution_count": null,
   "metadata": {},
   "outputs": [],
   "source": [
    "\"\"\"\n",
    "CNN--卷积神经网络\n",
    "\n",
    "== 概念 ==\n",
    "featuremap: 卷积后的输出\n",
    "\n",
    "== cnn参数 ==\n",
    "\n",
    "\n",
    "filters: Integer, the dimensionality of the output space? 这是什么含义？\n",
    "padding: 填充，在边缘填充像素，same是补0，valid是不补\n",
    "kernel_size: 一个int或int tuple，表示卷积核的维度，一个int表示方阵\n",
    "\n",
    "\n",
    "【注意】\n",
    "卷积核有权重和偏置两个参数，不仅仅是一个权重矩阵而已\n",
    "kernel里的weights和bias是训练得到的，不是事先指定的\n",
    "conv2d是设置一个二维卷积核，各channel共用这个卷积核，做完卷积之后，把各channel对应的输出求和，加上bias，再激活，得到输出\n",
    "\n",
    "\"\"\""
   ]
  },
  {
   "cell_type": "code",
   "execution_count": 2,
   "metadata": {},
   "outputs": [
    {
     "name": "stdout",
     "output_type": "stream",
     "text": [
      "2.0.0\n"
     ]
    }
   ],
   "source": [
    "import tensorflow as tf\n",
    "import numpy as np\n",
    "print(tf.__version__)"
   ]
  },
  {
   "cell_type": "markdown",
   "metadata": {},
   "source": [
    "## 简单的cnn示例"
   ]
  },
  {
   "cell_type": "code",
   "execution_count": 20,
   "metadata": {},
   "outputs": [
    {
     "data": {
      "text/plain": [
       "<tf.Tensor: id=77, shape=(3, 3), dtype=float32, numpy=\n",
       "array([[0.07780743, 0.4181733 , 0.11075616],\n",
       "       [0.29977345, 0.8776307 , 0.20157754],\n",
       "       [0.06411779, 0.1853931 , 0.91352904]], dtype=float32)>"
      ]
     },
     "execution_count": 20,
     "metadata": {},
     "output_type": "execute_result"
    }
   ],
   "source": [
    "X = tf.random.uniform(shape=(3,3))\n",
    "X"
   ]
  },
  {
   "cell_type": "code",
   "execution_count": 26,
   "metadata": {},
   "outputs": [
    {
     "data": {
      "text/plain": [
       "<tf.Tensor: id=79, shape=(1, 3, 3, 1), dtype=float32, numpy=\n",
       "array([[[[0.07780743],\n",
       "         [0.4181733 ],\n",
       "         [0.11075616]],\n",
       "\n",
       "        [[0.29977345],\n",
       "         [0.8776307 ],\n",
       "         [0.20157754]],\n",
       "\n",
       "        [[0.06411779],\n",
       "         [0.1853931 ],\n",
       "         [0.91352904]]]], dtype=float32)>"
      ]
     },
     "execution_count": 26,
     "metadata": {},
     "output_type": "execute_result"
    }
   ],
   "source": [
    "\"\"\" \n",
    "为什么要reshape成四维？ input_shape = (samples, rows, cols, channels)，一开始忽略了samples样本量这个维度\n",
    "卷积核的矩阵是什么？\n",
    "\"\"\"\n",
    "X = tf.reshape(X, [1] + X.shape + [1])\n",
    "X"
   ]
  },
  {
   "cell_type": "code",
   "execution_count": 41,
   "metadata": {},
   "outputs": [
    {
     "data": {
      "text/plain": [
       "<tensorflow.python.keras.layers.convolutional.Conv2D at 0xb38592cf8>"
      ]
     },
     "execution_count": 41,
     "metadata": {},
     "output_type": "execute_result"
    }
   ],
   "source": [
    "conv2d = tf.keras.layers.Conv2D(2, kernel_size=2, padding='same', activation=\"relu\", )\n",
    "conv2d"
   ]
  },
  {
   "cell_type": "code",
   "execution_count": 42,
   "metadata": {},
   "outputs": [
    {
     "data": {
      "text/plain": [
       "<tf.Tensor: id=296, shape=(1, 3, 3, 2), dtype=float32, numpy=\n",
       "array([[[[0.        , 0.10769583],\n",
       "         [0.4711002 , 0.        ],\n",
       "         [0.135226  , 0.        ]],\n",
       "\n",
       "        [[0.404316  , 0.00656273],\n",
       "         [0.        , 0.        ],\n",
       "         [0.48488614, 0.        ]],\n",
       "\n",
       "        [[0.10658912, 0.        ],\n",
       "         [0.4696102 , 0.01819348],\n",
       "         [0.38913837, 0.        ]]]], dtype=float32)>"
      ]
     },
     "execution_count": 42,
     "metadata": {},
     "output_type": "execute_result"
    }
   ],
   "source": [
    "Y = conv2d(X) # output shape: (samples, new_rows, new_cols, filters)\n",
    "Y"
   ]
  },
  {
   "cell_type": "code",
   "execution_count": null,
   "metadata": {},
   "outputs": [],
   "source": []
  }
 ],
 "metadata": {
  "kernelspec": {
   "display_name": "Python 3",
   "language": "python",
   "name": "python3"
  },
  "language_info": {
   "codemirror_mode": {
    "name": "ipython",
    "version": 3
   },
   "file_extension": ".py",
   "mimetype": "text/x-python",
   "name": "python",
   "nbconvert_exporter": "python",
   "pygments_lexer": "ipython3",
   "version": "3.6.5"
  }
 },
 "nbformat": 4,
 "nbformat_minor": 2
}
