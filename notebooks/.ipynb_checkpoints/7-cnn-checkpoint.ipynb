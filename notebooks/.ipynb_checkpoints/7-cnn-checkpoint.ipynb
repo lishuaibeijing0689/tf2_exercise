{
 "cells": [
  {
   "cell_type": "code",
   "execution_count": null,
   "metadata": {},
   "outputs": [],
   "source": [
    "\"\"\"\n",
    "CNN--卷积神经网络\n",
    "\n",
    "== 概念 ==\n",
    "featuremap: 卷积后的输出\n",
    "\n",
    "== cnn参数 ==\n",
    "filters: 卷积核的数量，是卷积层的输出维度之一\n",
    "padding: 填充，在边缘填充像素，same是补0，valid是不补\n",
    "kernel_size: 一个int或int tuple，表示卷积核的维度，一个int表示方阵\n",
    "strides: 步长，即 卷积核每次移动多少个元素，可以是int，也可以是tuple，int表示两个方向的步长相同\n",
    "【注意：步长会影响输出维度】\n",
    "\n",
    "\n",
    "【注意】\n",
    "卷积核有权重和偏置两个参数，不仅仅是一个权重矩阵而已\n",
    "kernel里的weights和bias是训练得到的，不是事先指定的\n",
    "conv2d是设置一个二维卷积核，各channel共用这个卷积核，做完卷积之后，把各channel对应的输出求和，加上bias，再激活，得到输出\n",
    "1*1的卷积核有特殊用途：用来合并通道\n",
    "\n",
    "\"\"\""
   ]
  },
  {
   "cell_type": "code",
   "execution_count": 2,
   "metadata": {},
   "outputs": [
    {
     "name": "stdout",
     "output_type": "stream",
     "text": [
      "2.0.0\n"
     ]
    }
   ],
   "source": [
    "import tensorflow as tf\n",
    "import numpy as np\n",
    "print(tf.__version__)"
   ]
  },
  {
   "cell_type": "markdown",
   "metadata": {},
   "source": [
    "## 卷积层"
   ]
  },
  {
   "cell_type": "code",
   "execution_count": 20,
   "metadata": {},
   "outputs": [
    {
     "data": {
      "text/plain": [
       "<tf.Tensor: id=77, shape=(3, 3), dtype=float32, numpy=\n",
       "array([[0.07780743, 0.4181733 , 0.11075616],\n",
       "       [0.29977345, 0.8776307 , 0.20157754],\n",
       "       [0.06411779, 0.1853931 , 0.91352904]], dtype=float32)>"
      ]
     },
     "execution_count": 20,
     "metadata": {},
     "output_type": "execute_result"
    }
   ],
   "source": [
    "X = tf.random.uniform(shape=(3,3))\n",
    "X"
   ]
  },
  {
   "cell_type": "code",
   "execution_count": 26,
   "metadata": {},
   "outputs": [
    {
     "data": {
      "text/plain": [
       "<tf.Tensor: id=79, shape=(1, 3, 3, 1), dtype=float32, numpy=\n",
       "array([[[[0.07780743],\n",
       "         [0.4181733 ],\n",
       "         [0.11075616]],\n",
       "\n",
       "        [[0.29977345],\n",
       "         [0.8776307 ],\n",
       "         [0.20157754]],\n",
       "\n",
       "        [[0.06411779],\n",
       "         [0.1853931 ],\n",
       "         [0.91352904]]]], dtype=float32)>"
      ]
     },
     "execution_count": 26,
     "metadata": {},
     "output_type": "execute_result"
    }
   ],
   "source": [
    "\"\"\" \n",
    "为什么要reshape成四维？ input_shape = (samples, rows, cols, channels)，一开始忽略了samples样本量这个维度\n",
    "卷积核的矩阵是什么？\n",
    "\"\"\"\n",
    "X = tf.reshape(X, [1] + X.shape + [1])\n",
    "X"
   ]
  },
  {
   "cell_type": "code",
   "execution_count": 41,
   "metadata": {},
   "outputs": [
    {
     "data": {
      "text/plain": [
       "<tensorflow.python.keras.layers.convolutional.Conv2D at 0xb38592cf8>"
      ]
     },
     "execution_count": 41,
     "metadata": {},
     "output_type": "execute_result"
    }
   ],
   "source": [
    "conv2d = tf.keras.layers.Conv2D(2, kernel_size=2, padding='same', activation=\"relu\", )\n",
    "conv2d"
   ]
  },
  {
   "cell_type": "code",
   "execution_count": 42,
   "metadata": {},
   "outputs": [
    {
     "data": {
      "text/plain": [
       "<tf.Tensor: id=296, shape=(1, 3, 3, 2), dtype=float32, numpy=\n",
       "array([[[[0.        , 0.10769583],\n",
       "         [0.4711002 , 0.        ],\n",
       "         [0.135226  , 0.        ]],\n",
       "\n",
       "        [[0.404316  , 0.00656273],\n",
       "         [0.        , 0.        ],\n",
       "         [0.48488614, 0.        ]],\n",
       "\n",
       "        [[0.10658912, 0.        ],\n",
       "         [0.4696102 , 0.01819348],\n",
       "         [0.38913837, 0.        ]]]], dtype=float32)>"
      ]
     },
     "execution_count": 42,
     "metadata": {},
     "output_type": "execute_result"
    }
   ],
   "source": [
    "Y = conv2d(X) # output shape: (samples, new_rows, new_cols, filters)\n",
    "Y"
   ]
  },
  {
   "cell_type": "code",
   "execution_count": 49,
   "metadata": {},
   "outputs": [
    {
     "data": {
      "text/plain": [
       "<tensorflow.python.keras.layers.convolutional.Conv2D at 0xb38414240>"
      ]
     },
     "execution_count": 49,
     "metadata": {},
     "output_type": "execute_result"
    }
   ],
   "source": [
    "conv2d = tf.keras.layers.Conv2D(1, kernel_size=2, padding='same', strides=1)\n",
    "conv2d"
   ]
  },
  {
   "cell_type": "code",
   "execution_count": 50,
   "metadata": {},
   "outputs": [
    {
     "data": {
      "text/plain": [
       "<tf.Tensor: id=352, shape=(1, 3, 3, 1), dtype=float32, numpy=\n",
       "array([[[[-0.33301598],\n",
       "         [ 0.11919552],\n",
       "         [ 0.05345572]],\n",
       "\n",
       "        [[ 0.04867708],\n",
       "         [-0.01100759],\n",
       "         [ 0.11439869]],\n",
       "\n",
       "        [[ 0.02691513],\n",
       "         [ 0.07705259],\n",
       "         [ 0.38887343]]]], dtype=float32)>"
      ]
     },
     "execution_count": 50,
     "metadata": {},
     "output_type": "execute_result"
    }
   ],
   "source": [
    "Y = conv2d(X) # output shape: (samples, new_rows, new_cols, filters)\n",
    "Y"
   ]
  },
  {
   "cell_type": "code",
   "execution_count": 51,
   "metadata": {},
   "outputs": [
    {
     "data": {
      "text/plain": [
       "<tensorflow.python.keras.layers.convolutional.Conv2D at 0xb385e21d0>"
      ]
     },
     "execution_count": 51,
     "metadata": {},
     "output_type": "execute_result"
    }
   ],
   "source": [
    "conv2d = tf.keras.layers.Conv2D(1, kernel_size=2, padding='same', strides=2) # strides=2\n",
    "conv2d"
   ]
  },
  {
   "cell_type": "code",
   "execution_count": 52,
   "metadata": {},
   "outputs": [
    {
     "data": {
      "text/plain": [
       "<tf.Tensor: id=379, shape=(1, 2, 2, 1), dtype=float32, numpy=\n",
       "array([[[[-0.41207868],\n",
       "         [-0.22221829]],\n",
       "\n",
       "        [[ 0.02833539],\n",
       "         [-0.48914006]]]], dtype=float32)>"
      ]
     },
     "execution_count": 52,
     "metadata": {},
     "output_type": "execute_result"
    }
   ],
   "source": [
    "Y = conv2d(X) # output shape: (samples, new_rows, new_cols, filters)\n",
    "Y"
   ]
  },
  {
   "cell_type": "markdown",
   "metadata": {},
   "source": [
    "## 池化层 pooling \n",
    "如果有多个通道，对每个通道分别池化"
   ]
  },
  {
   "cell_type": "code",
   "execution_count": 54,
   "metadata": {
    "scrolled": true
   },
   "outputs": [
    {
     "data": {
      "text/plain": [
       "<tf.Tensor: id=390, shape=(2, 4, 4, 1), dtype=int32, numpy=\n",
       "array([[[[ 0],\n",
       "         [ 1],\n",
       "         [ 1],\n",
       "         [ 2]],\n",
       "\n",
       "        [[ 2],\n",
       "         [ 3],\n",
       "         [ 3],\n",
       "         [ 4]],\n",
       "\n",
       "        [[ 4],\n",
       "         [ 5],\n",
       "         [ 5],\n",
       "         [ 6]],\n",
       "\n",
       "        [[ 6],\n",
       "         [ 7],\n",
       "         [ 7],\n",
       "         [ 8]]],\n",
       "\n",
       "\n",
       "       [[[ 8],\n",
       "         [ 9],\n",
       "         [ 9],\n",
       "         [10]],\n",
       "\n",
       "        [[10],\n",
       "         [11],\n",
       "         [11],\n",
       "         [12]],\n",
       "\n",
       "        [[12],\n",
       "         [13],\n",
       "         [13],\n",
       "         [14]],\n",
       "\n",
       "        [[14],\n",
       "         [15],\n",
       "         [15],\n",
       "         [16]]]], dtype=int32)>"
      ]
     },
     "execution_count": 54,
     "metadata": {},
     "output_type": "execute_result"
    }
   ],
   "source": [
    "X = tf.reshape(tf.constant(range(16)), (1,4,4,1))\n",
    "X = tf.stack([X, X+1], axis=3) # 增加一个channel，为什么axis=3还不明白\n",
    "X = tf.reshape(X, (2,4,4,1))\n",
    "X"
   ]
  },
  {
   "cell_type": "code",
   "execution_count": 58,
   "metadata": {},
   "outputs": [
    {
     "data": {
      "text/plain": [
       "<tf.Tensor: id=394, shape=(2, 2, 2, 1), dtype=int32, numpy=\n",
       "array([[[[ 3],\n",
       "         [ 4]],\n",
       "\n",
       "        [[ 7],\n",
       "         [ 8]]],\n",
       "\n",
       "\n",
       "       [[[11],\n",
       "         [12]],\n",
       "\n",
       "        [[15],\n",
       "         [16]]]], dtype=int32)>"
      ]
     },
     "execution_count": 58,
     "metadata": {},
     "output_type": "execute_result"
    }
   ],
   "source": [
    "pool2d = tf.keras.layers.MaxPool2D(pool_size=(2, 2), padding='valid', strides=2)\n",
    "pool2d(X)"
   ]
  },
  {
   "cell_type": "code",
   "execution_count": 62,
   "metadata": {},
   "outputs": [
    {
     "data": {
      "text/plain": [
       "<tf.Tensor: id=398, shape=(2, 1, 1, 1), dtype=int32, numpy=\n",
       "array([[[[ 3]]],\n",
       "\n",
       "\n",
       "       [[[11]]]], dtype=int32)>"
      ]
     },
     "execution_count": 62,
     "metadata": {},
     "output_type": "execute_result"
    }
   ],
   "source": [
    "pool2d = tf.keras.layers.MaxPool2D(pool_size=2, padding='valid', strides=3) # 对比padding参数 valid\n",
    "pool2d(X)"
   ]
  },
  {
   "cell_type": "code",
   "execution_count": 63,
   "metadata": {},
   "outputs": [
    {
     "data": {
      "text/plain": [
       "<tf.Tensor: id=399, shape=(2, 2, 2, 1), dtype=int32, numpy=\n",
       "array([[[[ 3],\n",
       "         [ 4]],\n",
       "\n",
       "        [[ 7],\n",
       "         [ 8]]],\n",
       "\n",
       "\n",
       "       [[[11],\n",
       "         [12]],\n",
       "\n",
       "        [[15],\n",
       "         [16]]]], dtype=int32)>"
      ]
     },
     "execution_count": 63,
     "metadata": {},
     "output_type": "execute_result"
    }
   ],
   "source": [
    "pool2d = tf.keras.layers.MaxPool2D(pool_size=2, padding='same', strides=3) # 对比padding参数 same\n",
    "pool2d(X)"
   ]
  },
  {
   "cell_type": "code",
   "execution_count": null,
   "metadata": {},
   "outputs": [],
   "source": []
  },
  {
   "cell_type": "code",
   "execution_count": null,
   "metadata": {},
   "outputs": [],
   "source": []
  },
  {
   "cell_type": "code",
   "execution_count": null,
   "metadata": {},
   "outputs": [],
   "source": []
  }
 ],
 "metadata": {
  "kernelspec": {
   "display_name": "Python 3",
   "language": "python",
   "name": "python3"
  },
  "language_info": {
   "codemirror_mode": {
    "name": "ipython",
    "version": 3
   },
   "file_extension": ".py",
   "mimetype": "text/x-python",
   "name": "python",
   "nbconvert_exporter": "python",
   "pygments_lexer": "ipython3",
   "version": "3.6.5"
  }
 },
 "nbformat": 4,
 "nbformat_minor": 2
}
