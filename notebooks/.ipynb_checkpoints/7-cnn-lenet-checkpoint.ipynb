{
 "cells": [
  {
   "cell_type": "code",
   "execution_count": 1,
   "metadata": {},
   "outputs": [
    {
     "data": {
      "text/plain": [
       "'\\nLeNet是非常经典的cnn网络\\n\\n问题：一个conv layer设置多个参数相同的filters，目的是什么？ 难道不会导致学到的东西都一样么？ \\n'"
      ]
     },
     "execution_count": 1,
     "metadata": {},
     "output_type": "execute_result"
    }
   ],
   "source": [
    "\"\"\"\n",
    "LeNet是非常经典的cnn网络\n",
    "\n",
    "问题：一个conv layer设置多个参数相同的filters，目的是什么？ 难道不会导致学到的东西都一样么？ \n",
    "cnn训练效果好的一个重要标志是每个核的权重参数相差很大，因此，如果训练出的各个核很相近，就说明没训练好，或者说根本不需要这么多核。\n",
    "为了使得每个核训练出的权重不同，可以设置kernel的初始值，默认初始值是一个正态分布。\n",
    "\n",
    "\n",
    "\"\"\""
   ]
  },
  {
   "cell_type": "code",
   "execution_count": 2,
   "metadata": {},
   "outputs": [
    {
     "name": "stdout",
     "output_type": "stream",
     "text": [
      "2.0.0\n"
     ]
    }
   ],
   "source": [
    "import tensorflow as tf\n",
    "print(tf.__version__)\n",
    "\n",
    "import numpy as np"
   ]
  },
  {
   "cell_type": "code",
   "execution_count": 3,
   "metadata": {},
   "outputs": [],
   "source": [
    "%run read_fashion_image.ipynb\n",
    "\n",
    "x_train, y_train, x_test, y_test = get_data()\n",
    "\n",
    "x_train = x_train / 255.0\n",
    "x_test = x_test / 255.0\n",
    "\n",
    "x_train = np.array([x.reshape(28,28) for x in x_train ])\n",
    "x_test = np.array([x.reshape(28,28) for x in x_test ])"
   ]
  },
  {
   "cell_type": "code",
   "execution_count": 4,
   "metadata": {},
   "outputs": [],
   "source": [
    "x_train = tf.reshape(x_train, (x_train.shape[0], x_train.shape[1], x_train.shape[2], 1))\n",
    "x_test = tf.reshape(x_test, (x_test.shape[0], x_test.shape[1], x_test.shape[2], 1))"
   ]
  },
  {
   "cell_type": "code",
   "execution_count": 32,
   "metadata": {},
   "outputs": [],
   "source": [
    "# net = tf.keras.models.Sequential([\n",
    "#     tf.keras.layers.Conv2D(filters=6,\n",
    "#                            kernel_size=5,\n",
    "#                            activation='sigmoid',\n",
    "#                            input_shape=(28,28,1),\n",
    "#                            kernel_initializer=\"ones\"), # 测试初始为1时，训练出的kernel会不会比较相近\n",
    "#     tf.keras.layers.MaxPool2D(pool_size=2, strides=2),\n",
    "#     tf.keras.layers.Conv2D(filters=16,\n",
    "#                            kernel_size=5,\n",
    "#                            activation='sigmoid',\n",
    "#                            kernel_initializer=\"ones\"), # 测试初始为1时，训练出的kernel会不会比较相近\n",
    "#     tf.keras.layers.MaxPool2D(pool_size=2, strides=2),\n",
    "#     tf.keras.layers.Flatten(),\n",
    "#     tf.keras.layers.Dense(120,activation='sigmoid'),\n",
    "#     tf.keras.layers.Dense(84,activation='sigmoid'),\n",
    "#     tf.keras.layers.Dense(10,activation='sigmoid')\n",
    "# ])"
   ]
  },
  {
   "cell_type": "code",
   "execution_count": 33,
   "metadata": {},
   "outputs": [],
   "source": [
    "net = tf.keras.models.Sequential([\n",
    "    tf.keras.layers.Conv2D(filters=6,\n",
    "                           kernel_size=5,\n",
    "                           activation='sigmoid',\n",
    "                           input_shape=(28,28,1)),\n",
    "    tf.keras.layers.MaxPool2D(pool_size=2, strides=2),\n",
    "    tf.keras.layers.Conv2D(filters=16,kernel_size=5,activation='sigmoid'),\n",
    "    tf.keras.layers.MaxPool2D(pool_size=2, strides=2),\n",
    "    tf.keras.layers.Flatten(),\n",
    "    tf.keras.layers.Dense(120,activation='sigmoid'),\n",
    "    tf.keras.layers.Dense(84,activation='sigmoid'),\n",
    "    tf.keras.layers.Dense(10,activation='sigmoid')\n",
    "])"
   ]
  },
  {
   "cell_type": "markdown",
   "metadata": {},
   "source": [
    "### 如果你只是载入模型并利用其predict，可以不用进行compile。在Keras中，compile主要完成损失函数和优化器的一些配置，是为训练服务的。"
   ]
  },
  {
   "cell_type": "code",
   "execution_count": 34,
   "metadata": {},
   "outputs": [],
   "source": [
    "optimizer = tf.keras.optimizers.SGD(learning_rate=0.9, momentum=0.0, nesterov=False)\n",
    "\n",
    "net.compile(optimizer=optimizer,\n",
    "              loss='sparse_categorical_crossentropy',\n",
    "              metrics=['accuracy'])"
   ]
  },
  {
   "cell_type": "code",
   "execution_count": 35,
   "metadata": {
    "scrolled": true
   },
   "outputs": [
    {
     "name": "stdout",
     "output_type": "stream",
     "text": [
      "Train on 54000 samples, validate on 6000 samples\n",
      "Epoch 1/9\n",
      "54000/54000 [==============================] - 10s 180us/sample - loss: 2.3046 - accuracy: 0.0975 - val_loss: 2.3019 - val_accuracy: 0.1027\n",
      "Epoch 2/9\n",
      "54000/54000 [==============================] - 9s 174us/sample - loss: 2.3029 - accuracy: 0.1008 - val_loss: 2.3027 - val_accuracy: 0.0973\n",
      "Epoch 3/9\n",
      "54000/54000 [==============================] - 9s 173us/sample - loss: 2.3026 - accuracy: 0.1023 - val_loss: 2.3025 - val_accuracy: 0.0925\n",
      "Epoch 4/9\n",
      "54000/54000 [==============================] - 9s 173us/sample - loss: 2.3018 - accuracy: 0.1050 - val_loss: 2.3002 - val_accuracy: 0.1055\n",
      "Epoch 5/9\n",
      "54000/54000 [==============================] - 9s 172us/sample - loss: 2.1676 - accuracy: 0.1717 - val_loss: 1.3966 - val_accuracy: 0.4605\n",
      "Epoch 6/9\n",
      "54000/54000 [==============================] - 10s 177us/sample - loss: 1.1443 - accuracy: 0.5402 - val_loss: 0.8778 - val_accuracy: 0.6638\n",
      "Epoch 7/9\n",
      "54000/54000 [==============================] - 10s 182us/sample - loss: 0.8598 - accuracy: 0.6626 - val_loss: 0.7427 - val_accuracy: 0.7140\n",
      "Epoch 8/9\n",
      "54000/54000 [==============================] - 10s 177us/sample - loss: 0.7042 - accuracy: 0.7216 - val_loss: 0.6283 - val_accuracy: 0.7527\n",
      "Epoch 9/9\n",
      "54000/54000 [==============================] - 10s 188us/sample - loss: 0.6292 - accuracy: 0.7500 - val_loss: 0.5683 - val_accuracy: 0.7752\n"
     ]
    },
    {
     "data": {
      "text/plain": [
       "<tensorflow.python.keras.callbacks.History at 0xb3135ea58>"
      ]
     },
     "execution_count": 35,
     "metadata": {},
     "output_type": "execute_result"
    }
   ],
   "source": [
    "net.fit(x_train, \n",
    "        y_train, \n",
    "        epochs=9, \n",
    "        validation_split=0.1,\n",
    "        batch_size = 256\n",
    "       )"
   ]
  },
  {
   "cell_type": "code",
   "execution_count": 30,
   "metadata": {},
   "outputs": [
    {
     "name": "stdout",
     "output_type": "stream",
     "text": [
      "10000/1 - 1s - loss: 0.4462 - accuracy: 0.7564\n"
     ]
    },
    {
     "data": {
      "text/plain": [
       "[0.5996268769741059, 0.7564]"
      ]
     },
     "execution_count": 30,
     "metadata": {},
     "output_type": "execute_result"
    }
   ],
   "source": [
    "net.evaluate(x_test, y_test, verbose=2)"
   ]
  },
  {
   "cell_type": "code",
   "execution_count": 9,
   "metadata": {},
   "outputs": [
    {
     "name": "stdout",
     "output_type": "stream",
     "text": [
      "Model: \"sequential\"\n",
      "_________________________________________________________________\n",
      "Layer (type)                 Output Shape              Param #   \n",
      "=================================================================\n",
      "conv2d (Conv2D)              (None, 24, 24, 6)         156       \n",
      "_________________________________________________________________\n",
      "max_pooling2d (MaxPooling2D) (None, 12, 12, 6)         0         \n",
      "_________________________________________________________________\n",
      "conv2d_1 (Conv2D)            (None, 8, 8, 16)          2416      \n",
      "_________________________________________________________________\n",
      "max_pooling2d_1 (MaxPooling2 (None, 4, 4, 16)          0         \n",
      "_________________________________________________________________\n",
      "flatten (Flatten)            (None, 256)               0         \n",
      "_________________________________________________________________\n",
      "dense (Dense)                (None, 120)               30840     \n",
      "_________________________________________________________________\n",
      "dense_1 (Dense)              (None, 84)                10164     \n",
      "_________________________________________________________________\n",
      "dense_2 (Dense)              (None, 10)                850       \n",
      "=================================================================\n",
      "Total params: 44,426\n",
      "Trainable params: 44,426\n",
      "Non-trainable params: 0\n",
      "_________________________________________________________________\n"
     ]
    }
   ],
   "source": [
    "net.summary()"
   ]
  },
  {
   "cell_type": "code",
   "execution_count": 31,
   "metadata": {
    "scrolled": true
   },
   "outputs": [
    {
     "data": {
      "text/plain": [
       "[<tf.Variable 'conv2d_10/kernel:0' shape=(5, 5, 1, 6) dtype=float32, numpy=\n",
       " array([[[[ 0.94524187,  0.9797878 ,  0.6814492 ,  0.8193303 ,\n",
       "            0.27060008,  0.97335535]],\n",
       " \n",
       "         [[ 0.8473756 ,  0.8847687 ,  0.5318367 ,  0.6898606 ,\n",
       "            0.34940362,  0.79933494]],\n",
       " \n",
       "         [[ 0.9045169 ,  0.9345963 ,  0.5655544 ,  0.7258388 ,\n",
       "            0.30696023,  0.84246725]],\n",
       " \n",
       "         [[ 0.9701795 ,  1.0018765 ,  0.6249341 ,  0.8021687 ,\n",
       "            0.5809352 ,  0.91278243]],\n",
       " \n",
       "         [[ 1.033936  ,  1.1641707 ,  0.3701653 ,  0.67267615,\n",
       "            0.3817169 ,  0.85832703]]],\n",
       " \n",
       " \n",
       "        [[[ 1.0074848 ,  1.037779  ,  0.61997324,  0.7629352 ,\n",
       "            0.14155655,  0.9663629 ]],\n",
       " \n",
       "         [[ 1.0299977 ,  1.0348129 ,  0.8093428 ,  0.951938  ,\n",
       "            0.40553674,  1.0193542 ]],\n",
       " \n",
       "         [[ 1.0724542 ,  1.0700581 ,  0.9313787 ,  1.0337487 ,\n",
       "            0.4440466 ,  1.069443  ]],\n",
       " \n",
       "         [[ 1.1580412 ,  1.1579213 ,  1.0220519 ,  1.1350937 ,\n",
       "            0.7399993 ,  1.1722904 ]],\n",
       " \n",
       "         [[ 1.2026247 ,  1.333657  ,  0.57704496,  0.833941  ,\n",
       "            0.512846  ,  1.0340961 ]]],\n",
       " \n",
       " \n",
       "        [[[ 0.9850096 ,  1.0117128 ,  0.45809987,  0.61383647,\n",
       "            0.03235655,  0.8773521 ]],\n",
       " \n",
       "         [[ 1.1024181 ,  1.0937285 ,  0.81777847,  0.9661327 ,\n",
       "            0.38900268,  1.0866874 ]],\n",
       " \n",
       "         [[ 1.1700642 ,  1.150166  ,  1.1236753 ,  1.2028062 ,\n",
       "            0.46019927,  1.2134422 ]],\n",
       " \n",
       "         [[ 1.2786952 ,  1.260108  ,  1.1997372 ,  1.2998145 ,\n",
       "            0.7277118 ,  1.3411403 ]],\n",
       " \n",
       "         [[ 1.2246217 ,  1.3768    ,  0.49856007,  0.7498543 ,\n",
       "            0.43701074,  1.0275211 ]]],\n",
       " \n",
       " \n",
       "        [[[ 0.7214977 ,  0.7665486 ,  0.22906066,  0.3484119 ,\n",
       "           -0.02504419,  0.5808506 ]],\n",
       " \n",
       "         [[ 1.0202312 ,  1.0271552 ,  0.6084913 ,  0.726129  ,\n",
       "            0.3383289 ,  0.9177017 ]],\n",
       " \n",
       "         [[ 1.216904  ,  1.1969934 ,  1.0505676 ,  1.1334355 ,\n",
       "            0.5245393 ,  1.2252611 ]],\n",
       " \n",
       "         [[ 1.2956849 ,  1.2959167 ,  1.0329083 ,  1.1345447 ,\n",
       "            0.724169  ,  1.2858082 ]],\n",
       " \n",
       "         [[ 1.0461566 ,  1.2127062 ,  0.30037114,  0.5193138 ,\n",
       "            0.31570172,  0.8053514 ]]],\n",
       " \n",
       " \n",
       "        [[[ 0.4198109 ,  0.47931162, -0.02545941,  0.03420155,\n",
       "           -0.26313674,  0.23934112]],\n",
       " \n",
       "         [[ 0.69302726,  0.7362057 ,  0.254853  ,  0.3040394 ,\n",
       "            0.06536035,  0.49019063]],\n",
       " \n",
       "         [[ 1.0196161 ,  1.0318693 ,  0.63605934,  0.682382  ,\n",
       "            0.29376912,  0.8666133 ]],\n",
       " \n",
       "         [[ 0.9945109 ,  1.0456533 ,  0.5452068 ,  0.60261387,\n",
       "            0.4533059 ,  0.80909836]],\n",
       " \n",
       "         [[ 0.7128642 ,  0.87031597,  0.02455003,  0.18724227,\n",
       "            0.0408179 ,  0.42292553]]]], dtype=float32)>,\n",
       " <tf.Variable 'conv2d_10/bias:0' shape=(6,) dtype=float32, numpy=\n",
       " array([-1.8549469, -1.6922352, -3.2891634, -2.7577393, -4.869541 ,\n",
       "        -2.1443846], dtype=float32)>]"
      ]
     },
     "execution_count": 31,
     "metadata": {},
     "output_type": "execute_result"
    }
   ],
   "source": [
    "# 做了一个实验，如果把kernel全部初始化为1，得到的训练结果 weights 往往都离1不远，甚至没有一个负数\n",
    "conv2d_layer_0 = net.layers[0]\n",
    "conv2d_layer_0.weights"
   ]
  },
  {
   "cell_type": "code",
   "execution_count": 37,
   "metadata": {
    "scrolled": true
   },
   "outputs": [
    {
     "data": {
      "text/plain": [
       "[<tf.Variable 'conv2d_14/kernel:0' shape=(5, 5, 1, 6) dtype=float32, numpy=\n",
       " array([[[[ 0.26339722,  0.19708556,  0.19347018,  0.46008778,\n",
       "           -0.12561186, -0.15874225]],\n",
       " \n",
       "         [[ 0.6034756 ,  0.31623998,  0.03983955, -0.4107508 ,\n",
       "           -0.3255032 ,  0.19472325]],\n",
       " \n",
       "         [[ 0.28584185,  0.18621832, -0.63715816, -0.883408  ,\n",
       "           -0.8776145 ,  0.19226222]],\n",
       " \n",
       "         [[ 0.13018523,  0.25638303, -0.41258973, -0.33118528,\n",
       "           -0.9640765 ,  0.2692302 ]],\n",
       " \n",
       "         [[-0.02940182, -0.17852297,  0.30484727, -0.01126929,\n",
       "           -0.456149  ,  0.16372453]]],\n",
       " \n",
       " \n",
       "        [[[ 0.3809024 ,  0.08623768,  0.69429904,  0.7163048 ,\n",
       "           -0.27143303, -0.1720772 ]],\n",
       " \n",
       "         [[ 0.30879584,  0.29234323,  0.32559347, -0.3230145 ,\n",
       "           -1.0378624 ,  0.32336456]],\n",
       " \n",
       "         [[ 0.22166048,  0.22958465, -0.8350204 , -1.4076345 ,\n",
       "           -1.6414438 ,  0.6123414 ]],\n",
       " \n",
       "         [[ 0.24011275,  0.2095522 , -0.709677  , -0.9955072 ,\n",
       "           -1.8403575 ,  0.42598397]],\n",
       " \n",
       "         [[ 0.10652006,  0.10905006,  0.23098263, -0.02711281,\n",
       "           -0.96734303,  0.12899491]]],\n",
       " \n",
       " \n",
       "        [[[ 0.3662616 , -0.04226919,  0.7655261 ,  1.0788136 ,\n",
       "           -0.340757  ,  0.00769821]],\n",
       " \n",
       "         [[ 0.4033729 ,  0.2228273 ,  0.3420424 ,  0.24210805,\n",
       "           -1.3497038 ,  0.43945968]],\n",
       " \n",
       "         [[ 0.11364502,  0.45169812, -0.5839515 , -1.0744258 ,\n",
       "           -1.9084187 ,  0.52610177]],\n",
       " \n",
       "         [[-0.01471604,  0.18231945, -0.85777295, -0.77361757,\n",
       "           -1.7947382 ,  0.48684013]],\n",
       " \n",
       "         [[-0.19640814,  0.04557098, -0.14891672,  0.12668593,\n",
       "           -1.0866647 ,  0.11286671]]],\n",
       " \n",
       " \n",
       "        [[[ 0.3538744 ,  0.17286593,  0.89550847,  0.9297927 ,\n",
       "            0.36552158,  0.00730736]],\n",
       " \n",
       "         [[ 0.24552926,  0.44718584,  0.2730224 ,  0.26357973,\n",
       "           -0.82814944,  0.3777036 ]],\n",
       " \n",
       "         [[ 0.22341388,  0.2431194 , -0.7212017 , -0.7923986 ,\n",
       "           -1.2231438 ,  0.54636633]],\n",
       " \n",
       "         [[-0.07038724,  0.19457087, -0.70179415, -0.45922992,\n",
       "           -1.4928083 ,  0.16574107]],\n",
       " \n",
       "         [[-0.12922211, -0.06795517,  0.1293402 ,  0.47689694,\n",
       "           -0.52405363,  0.13079472]]],\n",
       " \n",
       " \n",
       "        [[[ 0.09656031,  0.03513379,  0.7982067 ,  0.8175686 ,\n",
       "            0.7906264 ,  0.02183127]],\n",
       " \n",
       "         [[-0.11164319,  0.4135798 ,  0.33031616,  0.31113732,\n",
       "            0.13071352,  0.1914453 ]],\n",
       " \n",
       "         [[ 0.257273  ,  0.28343493, -0.33819833, -0.8114318 ,\n",
       "           -0.7100413 ,  0.56063247]],\n",
       " \n",
       "         [[-0.20313354,  0.16029611, -0.48639905, -0.22760098,\n",
       "           -0.8676506 ,  0.3763527 ]],\n",
       " \n",
       "         [[-0.4459261 , -0.29232457,  0.08174071,  0.3025487 ,\n",
       "           -0.07914902, -0.21702717]]]], dtype=float32)>,\n",
       " <tf.Variable 'conv2d_14/bias:0' shape=(6,) dtype=float32, numpy=\n",
       " array([-1.0605829 , -1.2751775 , -0.54292196, -0.12628233,  0.71934724,\n",
       "        -1.3472184 ], dtype=float32)>]"
      ]
     },
     "execution_count": 37,
     "metadata": {},
     "output_type": "execute_result"
    }
   ],
   "source": [
    "# kernel初始化为正态分布时，训练得到的weights分布比较分散\n",
    "conv2d_layer_0 = net.layers[0]\n",
    "conv2d_layer_0.weights"
   ]
  },
  {
   "cell_type": "code",
   "execution_count": null,
   "metadata": {},
   "outputs": [],
   "source": []
  }
 ],
 "metadata": {
  "kernelspec": {
   "display_name": "Python 3",
   "language": "python",
   "name": "python3"
  },
  "language_info": {
   "codemirror_mode": {
    "name": "ipython",
    "version": 3
   },
   "file_extension": ".py",
   "mimetype": "text/x-python",
   "name": "python",
   "nbconvert_exporter": "python",
   "pygments_lexer": "ipython3",
   "version": "3.6.5"
  }
 },
 "nbformat": 4,
 "nbformat_minor": 2
}
