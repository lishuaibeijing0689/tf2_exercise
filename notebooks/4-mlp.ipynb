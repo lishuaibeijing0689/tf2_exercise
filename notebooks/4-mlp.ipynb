{
 "cells": [
  {
   "cell_type": "code",
   "execution_count": null,
   "metadata": {},
   "outputs": [],
   "source": [
    "\"\"\"\n",
    "全连接多层神经网络\n",
    "\"\"\""
   ]
  },
  {
   "cell_type": "code",
   "execution_count": 1,
   "metadata": {},
   "outputs": [],
   "source": [
    "import tensorflow as tf\n",
    "from tensorflow import keras\n",
    "import pandas as pd\n",
    "import numpy as np\n",
    "import matplotlib.pyplot as plt\n",
    "%matplotlib inline"
   ]
  },
  {
   "cell_type": "code",
   "execution_count": 2,
   "metadata": {},
   "outputs": [],
   "source": [
    "%run read_fashion_image.ipynb\n",
    "\n",
    "x_train, y_train, x_test, y_test = get_data()"
   ]
  },
  {
   "cell_type": "code",
   "execution_count": 3,
   "metadata": {},
   "outputs": [],
   "source": [
    "x_train = x_train / 255.0\n",
    "x_test = x_test / 255.0"
   ]
  },
  {
   "cell_type": "code",
   "execution_count": 4,
   "metadata": {},
   "outputs": [],
   "source": [
    "x_train = np.array([x.reshape(28,28) for x in x_train ])\n",
    "x_test = np.array([x.reshape(28,28) for x in x_test ])"
   ]
  },
  {
   "cell_type": "code",
   "execution_count": 5,
   "metadata": {},
   "outputs": [],
   "source": [
    "model = tf.keras.models.Sequential([\n",
    "                                    tf.keras.layers.Flatten(input_shape=(28, 28)),\n",
    "                                    tf.keras.layers.Dense(256, activation='relu',),\n",
    "                                    tf.keras.layers.Dense(10, activation='softmax')\n",
    "                                    ])"
   ]
  },
  {
   "cell_type": "code",
   "execution_count": 6,
   "metadata": {},
   "outputs": [],
   "source": [
    "model.compile(optimizer=tf.keras.optimizers.SGD(lr=0.5),\n",
    "             loss = 'sparse_categorical_crossentropy',\n",
    "             metrics=['accuracy'])"
   ]
  },
  {
   "cell_type": "code",
   "execution_count": 8,
   "metadata": {},
   "outputs": [
    {
     "name": "stdout",
     "output_type": "stream",
     "text": [
      "Train on 60000 samples, validate on 10000 samples\n",
      "Epoch 1/5\n",
      "60000/60000 [==============================] - 2s 29us/sample - loss: 0.7740 - accuracy: 0.7174 - val_loss: 0.6295 - val_accuracy: 0.7559\n",
      "Epoch 2/5\n",
      "60000/60000 [==============================] - 1s 19us/sample - loss: 0.4729 - accuracy: 0.8260 - val_loss: 0.5542 - val_accuracy: 0.8040\n",
      "Epoch 3/5\n",
      "60000/60000 [==============================] - 1s 21us/sample - loss: 0.4161 - accuracy: 0.8474 - val_loss: 0.4795 - val_accuracy: 0.8303\n",
      "Epoch 4/5\n",
      "60000/60000 [==============================] - 1s 21us/sample - loss: 0.3838 - accuracy: 0.8580 - val_loss: 0.4319 - val_accuracy: 0.8435\n",
      "Epoch 5/5\n",
      "60000/60000 [==============================] - 1s 19us/sample - loss: 0.3604 - accuracy: 0.8668 - val_loss: 0.4420 - val_accuracy: 0.8450\n"
     ]
    },
    {
     "data": {
      "text/plain": [
       "<tensorflow.python.keras.callbacks.History at 0xb40f64518>"
      ]
     },
     "execution_count": 8,
     "metadata": {},
     "output_type": "execute_result"
    }
   ],
   "source": [
    "model.fit(x_train, \n",
    "          y_train, \n",
    "          epochs=5,\n",
    "          batch_size=256,\n",
    "          validation_data=(x_test, y_test),\n",
    "          validation_freq=1)"
   ]
  },
  {
   "cell_type": "markdown",
   "metadata": {},
   "source": [
    "### dropout"
   ]
  },
  {
   "cell_type": "code",
   "execution_count": 13,
   "metadata": {},
   "outputs": [],
   "source": [
    "model = tf.keras.models.Sequential([\n",
    "                                    tf.keras.layers.Flatten(input_shape=(28, 28)),\n",
    "                                    tf.keras.layers.Dense(256, activation='relu',),\n",
    "                                    tf.keras.layers.Dropout(0.5),\n",
    "                                    tf.keras.layers.Dense(256, activation='relu',),\n",
    "                                    tf.keras.layers.Dropout(0.5),\n",
    "                                    tf.keras.layers.Dense(10, activation='softmax')\n",
    "                                    ])"
   ]
  },
  {
   "cell_type": "code",
   "execution_count": 14,
   "metadata": {},
   "outputs": [],
   "source": [
    "model.compile(optimizer=tf.keras.optimizers.SGD(lr=0.5),\n",
    "             loss = 'sparse_categorical_crossentropy',\n",
    "             metrics=['accuracy'])"
   ]
  },
  {
   "cell_type": "code",
   "execution_count": 15,
   "metadata": {
    "scrolled": true
   },
   "outputs": [
    {
     "name": "stdout",
     "output_type": "stream",
     "text": [
      "Train on 60000 samples, validate on 10000 samples\n",
      "Epoch 1/20\n",
      "60000/60000 [==============================] - 3s 52us/sample - loss: 0.8822 - accuracy: 0.6749 - val_loss: 0.6018 - val_accuracy: 0.7857\n",
      "Epoch 2/20\n",
      "60000/60000 [==============================] - 2s 41us/sample - loss: 0.5847 - accuracy: 0.7853 - val_loss: 0.5050 - val_accuracy: 0.8085\n",
      "Epoch 3/20\n",
      "60000/60000 [==============================] - 2s 34us/sample - loss: 0.5163 - accuracy: 0.8127 - val_loss: 0.4564 - val_accuracy: 0.8311\n",
      "Epoch 4/20\n",
      "60000/60000 [==============================] - 4s 61us/sample - loss: 0.4848 - accuracy: 0.8248 - val_loss: 0.4495 - val_accuracy: 0.8360\n",
      "Epoch 5/20\n",
      "60000/60000 [==============================] - 4s 60us/sample - loss: 0.4599 - accuracy: 0.8342 - val_loss: 0.4252 - val_accuracy: 0.8423\n",
      "Epoch 6/20\n",
      "60000/60000 [==============================] - 2s 28us/sample - loss: 0.4383 - accuracy: 0.8419 - val_loss: 0.4285 - val_accuracy: 0.8356\n",
      "Epoch 7/20\n",
      "60000/60000 [==============================] - 2s 28us/sample - loss: 0.4268 - accuracy: 0.8460 - val_loss: 0.4354 - val_accuracy: 0.8378\n",
      "Epoch 8/20\n",
      "60000/60000 [==============================] - 2s 28us/sample - loss: 0.4196 - accuracy: 0.8480 - val_loss: 0.3900 - val_accuracy: 0.8509\n",
      "Epoch 9/20\n",
      "60000/60000 [==============================] - 2s 28us/sample - loss: 0.4086 - accuracy: 0.8502 - val_loss: 0.4075 - val_accuracy: 0.8458\n",
      "Epoch 10/20\n",
      "60000/60000 [==============================] - 2s 27us/sample - loss: 0.4004 - accuracy: 0.8547 - val_loss: 0.3712 - val_accuracy: 0.8631\n",
      "Epoch 11/20\n",
      "60000/60000 [==============================] - 2s 27us/sample - loss: 0.3943 - accuracy: 0.8565 - val_loss: 0.3904 - val_accuracy: 0.8555\n",
      "Epoch 12/20\n",
      "60000/60000 [==============================] - 2s 27us/sample - loss: 0.3910 - accuracy: 0.8586 - val_loss: 0.3681 - val_accuracy: 0.8647\n",
      "Epoch 13/20\n",
      "60000/60000 [==============================] - 2s 27us/sample - loss: 0.3775 - accuracy: 0.8599 - val_loss: 0.3671 - val_accuracy: 0.8681\n",
      "Epoch 14/20\n",
      "60000/60000 [==============================] - 2s 29us/sample - loss: 0.3765 - accuracy: 0.8638 - val_loss: 0.4109 - val_accuracy: 0.8487\n",
      "Epoch 15/20\n",
      "60000/60000 [==============================] - 2s 27us/sample - loss: 0.3714 - accuracy: 0.8633 - val_loss: 0.3748 - val_accuracy: 0.8634\n",
      "Epoch 16/20\n",
      "60000/60000 [==============================] - 2s 27us/sample - loss: 0.3703 - accuracy: 0.8643 - val_loss: 0.3665 - val_accuracy: 0.8692\n",
      "Epoch 17/20\n",
      "60000/60000 [==============================] - 2s 27us/sample - loss: 0.3617 - accuracy: 0.8678 - val_loss: 0.3618 - val_accuracy: 0.8641\n",
      "Epoch 18/20\n",
      "60000/60000 [==============================] - 2s 27us/sample - loss: 0.3571 - accuracy: 0.8686 - val_loss: 0.3843 - val_accuracy: 0.8557\n",
      "Epoch 19/20\n",
      "60000/60000 [==============================] - 2s 29us/sample - loss: 0.3546 - accuracy: 0.8711 - val_loss: 0.3560 - val_accuracy: 0.8703\n",
      "Epoch 20/20\n",
      "60000/60000 [==============================] - 2s 30us/sample - loss: 0.3495 - accuracy: 0.8705 - val_loss: 0.3763 - val_accuracy: 0.8626\n"
     ]
    },
    {
     "data": {
      "text/plain": [
       "<tensorflow.python.keras.callbacks.History at 0xb38151400>"
      ]
     },
     "execution_count": 15,
     "metadata": {},
     "output_type": "execute_result"
    }
   ],
   "source": [
    "model.fit(x_train, \n",
    "          y_train, \n",
    "          epochs=20,\n",
    "          batch_size=256,\n",
    "          validation_data=(x_test, y_test),\n",
    "          validation_freq=1)"
   ]
  },
  {
   "cell_type": "code",
   "execution_count": 19,
   "metadata": {},
   "outputs": [],
   "source": [
    "model.compile?"
   ]
  },
  {
   "cell_type": "code",
   "execution_count": 18,
   "metadata": {},
   "outputs": [],
   "source": [
    "model.fit?"
   ]
  },
  {
   "cell_type": "code",
   "execution_count": 17,
   "metadata": {},
   "outputs": [],
   "source": [
    "tf.keras.optimizers.Adam?"
   ]
  },
  {
   "cell_type": "code",
   "execution_count": 7,
   "metadata": {},
   "outputs": [],
   "source": [
    "\"\"\"\n",
    "early stop 在哪里设置？\n",
    "weight_decay用在哪里，暂时不知道。 weight_decay是权重衰减，是在w上叠加一个0-1之间的小数，使得权重偏小\n",
    "与dropout起到类似的效果，防止过拟合。\n",
    "\n",
    "\"\"\""
   ]
  },
  {
   "cell_type": "code",
   "execution_count": null,
   "metadata": {},
   "outputs": [],
   "source": []
  }
 ],
 "metadata": {
  "kernelspec": {
   "display_name": "Python 3",
   "language": "python",
   "name": "python3"
  },
  "language_info": {
   "codemirror_mode": {
    "name": "ipython",
    "version": 3
   },
   "file_extension": ".py",
   "mimetype": "text/x-python",
   "name": "python",
   "nbconvert_exporter": "python",
   "pygments_lexer": "ipython3",
   "version": "3.6.5"
  }
 },
 "nbformat": 4,
 "nbformat_minor": 2
}
